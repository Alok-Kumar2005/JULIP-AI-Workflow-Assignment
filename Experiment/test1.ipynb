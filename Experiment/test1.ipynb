{
 "cells": [
  {
   "cell_type": "markdown",
   "id": "ebe8e2b1",
   "metadata": {},
   "source": [
    "## Test Julep Agent"
   ]
  },
  {
   "cell_type": "code",
   "execution_count": 1,
   "id": "17d7c5ff",
   "metadata": {},
   "outputs": [],
   "source": [
    "import os\n",
    "from dotenv import load_dotenv\n",
    "from julep import Julep"
   ]
  },
  {
   "cell_type": "code",
   "execution_count": 2,
   "id": "e0cb7205",
   "metadata": {},
   "outputs": [
    {
     "data": {
      "text/plain": [
       "True"
      ]
     },
     "execution_count": 2,
     "metadata": {},
     "output_type": "execute_result"
    }
   ],
   "source": [
    "load_dotenv()"
   ]
  },
  {
   "cell_type": "code",
   "execution_count": 4,
   "id": "0cdd3df7",
   "metadata": {},
   "outputs": [],
   "source": [
    "client = Julep(\n",
    "    api_key=os.getenv('JULEP_API_KEY'),\n",
    "    environment=os.getenv('JULEP_ENVIRONMENT', 'production')\n",
    ")"
   ]
  },
  {
   "cell_type": "code",
   "execution_count": 6,
   "id": "96b1e98a",
   "metadata": {},
   "outputs": [],
   "source": [
    "agent = client.agents.create(\n",
    "    name=\"Test Agent\",\n",
    "    model=\"claude-3.5-haiku\",\n",
    "    about=\"A test agent\"\n",
    ")"
   ]
  },
  {
   "cell_type": "code",
   "execution_count": 7,
   "id": "86b29a7b",
   "metadata": {},
   "outputs": [
    {
     "name": "stdout",
     "output_type": "stream",
     "text": [
      "Successfully created agent: 0683fdea-e4ba-721d-8000-e2363dd86ccd\n"
     ]
    }
   ],
   "source": [
    "print(f\"Successfully created agent: {agent.id}\")"
   ]
  },
  {
   "cell_type": "code",
   "execution_count": 9,
   "id": "1afc6cde",
   "metadata": {},
   "outputs": [],
   "source": [
    "import yaml \n",
    "\n",
    "task_definition = yaml.safe_load(\"\"\"\n",
    "name: Story Generator\n",
    "description: Generate a short story based on a given topic\n",
    "main:\n",
    "- prompt:\n",
    "  - role: system\n",
    "    content: You are a creative story writer.\n",
    "  - role: user\n",
    "    content: $ f'Write a short story about {steps[0].input.topic}'\n",
    "\"\"\")\n",
    "\n",
    "task = client.tasks.create(\n",
    "    agent_id=agent.id,\n",
    "    **task_definition \n",
    ")"
   ]
  },
  {
   "cell_type": "code",
   "execution_count": 10,
   "id": "4701cf68",
   "metadata": {},
   "outputs": [],
   "source": [
    "execution = client.executions.create(\n",
    "    task_id=task.id,\n",
    "    input={\"topic\": \"a magical garden\"}\n",
    ")"
   ]
  },
  {
   "cell_type": "code",
   "execution_count": 12,
   "id": "16fcbe08",
   "metadata": {},
   "outputs": [
    {
     "name": "stdout",
     "output_type": "stream",
     "text": [
      "{'id': 'chatcmpl-12eb18cc-c1e6-4ca7-a390-e33bfb8a49e2', 'model': 'claude-3-5-haiku-20241022', 'usage': {'total_tokens': 445, 'prompt_tokens': 22, 'completion_tokens': 423, 'prompt_tokens_details': {'audio_tokens': None, 'cached_tokens': 0}, 'cache_read_input_tokens': 0, 'completion_tokens_details': None, 'cache_creation_input_tokens': 0}, 'object': 'chat.completion', 'choices': [{'index': 0, 'message': {'role': 'assistant', 'content': 'Here\\'s a short story about a magical garden:\\n\\nThe Whispers of Moonflower Garden\\n\\nEmma had always been drawn to the abandoned garden at the edge of town. Overgrown and forgotten, it seemed to pulse with a mysterious energy that called to her. On the night of the summer solstice, she finally mustered the courage to slip through the rusted iron gate.\\n\\nMoonlight cascaded over tangled vines and ancient stone pathways. As her fingers brushed against a particularly vibrant flower, something extraordinary happened. The flower—a delicate silvery bloom she\\'d never seen before—seemed to shimmer and whisper.\\n\\n\"Welcome,\" it murmured, its petals gently moving without a breeze.\\n\\nStunned, Emma watched as other flowers began to stir. Roses of impossible colors—deep midnight blue and luminescent purple—nodded their heads. Tiny lights began to dance between the plants, like fireflies made of pure starlight.\\n\\nAn old stone fountain at the garden\\'s center began to trickle with water that sparkled like liquid diamonds. Forgotten statues of woodland creatures stretched and yawned, their stone surfaces becoming soft and alive.\\n\\nThe garden\\'s guardian—an ancient willow tree with bark like weathered wisdom—spoke next. \"You have a kind heart,\" it said, its branches swaying. \"Few can see the magic that lives here.\"\\n\\nEmma learned that this was a sanctuary—a place where magic had taken refuge from the busy, unbelieving world outside. Plants here could speak, remember centuries of stories, and hold secrets of forgotten spells.\\n\\nAs dawn approached, the garden began to settle. The magical creatures retreated, the flowers closed their luminescent petals, and the fountain\\'s magical water slowed to a quiet trickle.\\n\\nEmma knew she would return. She had been chosen, welcomed into a world most would never understand.\\n\\nThe magical garden had claimed her as its own.', 'tool_calls': None, 'function_call': None}, 'finish_reason': 'stop'}], 'created': 1749016595, 'service_tier': None, 'system_fingerprint': None}\n"
     ]
    }
   ],
   "source": [
    "# Wait for the execution to complete\n",
    "while (result := client.executions.get(execution.id)).status not in ['succeeded', 'failed']:\n",
    "    print(result.status)\n",
    "    time.sleep(1)\n",
    "\n",
    "if result.status == \"succeeded\":\n",
    "    print(result.output)\n",
    "else:\n",
    "    print(f\"Error: {result.error}\")"
   ]
  },
  {
   "cell_type": "code",
   "execution_count": 23,
   "id": "feb64e31",
   "metadata": {},
   "outputs": [
    {
     "name": "stdout",
     "output_type": "stream",
     "text": [
      "Here's a short story about a magical garden:\n",
      "\n",
      "The Whispers of Moonflower Garden\n",
      "\n",
      "Emma had always been drawn to the abandoned garden at the edge of town. Overgrown and forgotten, it seemed to pulse with a mysterious energy that called to her. On the night of the summer solstice, she finally mustered the courage to slip through the rusted iron gate.\n",
      "\n",
      "Moonlight cascaded over tangled vines and ancient stone pathways. As her fingers brushed against a particularly vibrant flower, something extraordinary happened. The flower—a delicate silvery bloom she'd never seen before—seemed to shimmer and whisper.\n",
      "\n",
      "\"Welcome,\" it murmured, its petals gently moving without a breeze.\n",
      "\n",
      "Stunned, Emma watched as other flowers began to stir. Roses of impossible colors—deep midnight blue and luminescent purple—nodded their heads. Tiny lights began to dance between the plants, like fireflies made of pure starlight.\n",
      "\n",
      "An old stone fountain at the garden's center began to trickle with water that sparkled like liquid diamonds. Forgotten statues of woodland creatures stretched and yawned, their stone surfaces becoming soft and alive.\n",
      "\n",
      "The garden's guardian—an ancient willow tree with bark like weathered wisdom—spoke next. \"You have a kind heart,\" it said, its branches swaying. \"Few can see the magic that lives here.\"\n",
      "\n",
      "Emma learned that this was a sanctuary—a place where magic had taken refuge from the busy, unbelieving world outside. Plants here could speak, remember centuries of stories, and hold secrets of forgotten spells.\n",
      "\n",
      "As dawn approached, the garden began to settle. The magical creatures retreated, the flowers closed their luminescent petals, and the fountain's magical water slowed to a quiet trickle.\n",
      "\n",
      "Emma knew she would return. She had been chosen, welcomed into a world most would never understand.\n",
      "\n",
      "The magical garden had claimed her as its own.\n"
     ]
    }
   ],
   "source": [
    "story = result.output['choices'][0]['message']['content']\n",
    "print(story)"
   ]
  },
  {
   "cell_type": "code",
   "execution_count": null,
   "id": "3aa9b5d2",
   "metadata": {},
   "outputs": [],
   "source": []
  }
 ],
 "metadata": {
  "kernelspec": {
   "display_name": "julep_venv",
   "language": "python",
   "name": "python3"
  },
  "language_info": {
   "codemirror_mode": {
    "name": "ipython",
    "version": 3
   },
   "file_extension": ".py",
   "mimetype": "text/x-python",
   "name": "python",
   "nbconvert_exporter": "python",
   "pygments_lexer": "ipython3",
   "version": "3.12.7"
  }
 },
 "nbformat": 4,
 "nbformat_minor": 5
}
