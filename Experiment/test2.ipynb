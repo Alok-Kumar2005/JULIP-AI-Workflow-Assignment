{
 "cells": [
  {
   "cell_type": "markdown",
   "id": "09d80cf0",
   "metadata": {},
   "source": [
    "## Test Open Weather api key"
   ]
  },
  {
   "cell_type": "code",
   "execution_count": 6,
   "id": "2baaa24e",
   "metadata": {},
   "outputs": [],
   "source": [
    "import os\n",
    "import time\n",
    "from dotenv import load_dotenv\n",
    "from julep import Julep"
   ]
  },
  {
   "cell_type": "code",
   "execution_count": 7,
   "id": "c4aef3b9",
   "metadata": {},
   "outputs": [
    {
     "data": {
      "text/plain": [
       "True"
      ]
     },
     "execution_count": 7,
     "metadata": {},
     "output_type": "execute_result"
    }
   ],
   "source": [
    "load_dotenv()"
   ]
  },
  {
   "cell_type": "code",
   "execution_count": 8,
   "id": "d9d4b571",
   "metadata": {},
   "outputs": [],
   "source": [
    "client = Julep(\n",
    "    api_key=os.getenv('JULEP_API_KEY'),\n",
    "    environment=os.getenv('JULEP_ENVIRONMENT', 'production')\n",
    ")"
   ]
  },
  {
   "cell_type": "code",
   "execution_count": 9,
   "id": "32c2b2fb",
   "metadata": {},
   "outputs": [],
   "source": [
    "agent = client.agents.create(\n",
    "    name=\"Weather Reporter\",\n",
    "    model=\"claude-3.5-sonnet\",\n",
    "    about=\"An AI agent that tells about the weather condidion of the follwing place.\"\n",
    ")"
   ]
  },
  {
   "cell_type": "code",
   "execution_count": 12,
   "id": "25849f25",
   "metadata": {},
   "outputs": [],
   "source": [
    "task_definition = {\n",
    "    \"name\": \"Foodie Tour Generator\",\n",
    "    \"description\": \"Generates a one-day foodie tour for each city based on weather and local dishes.\",\n",
    "    \"input_schema\": {\n",
    "        \"type\": \"object\",\n",
    "        \"properties\": {\n",
    "            \"cities\": {\n",
    "                \"type\": \"array\",\n",
    "                \"items\": {\"type\": \"string\"}\n",
    "            }\n",
    "        }\n",
    "    },\n",
    "    \"tools\": [\n",
    "        {\n",
    "            \"name\": \"weather\",\n",
    "            \"type\": \"integration\",\n",
    "            \"integration\": {\n",
    "                \"provider\": \"weather\",\n",
    "                \"setup\": {\n",
    "                    \"openweathermap_api_key\": os.getenv('OPENWEATHERMAP_API_KEY')\n",
    "                }\n",
    "            }\n",
    "        }\n",
    "    ],\n",
    "    \"main\": [\n",
    "        {\n",
    "            \"over\": \"$ steps[0].input.cities\",\n",
    "            \"map\": {\n",
    "                \"tool\": \"weather\",\n",
    "                \"arguments\": {\n",
    "                    \"location\": \"$ _\"\n",
    "                }\n",
    "            }\n",
    "        }\n",
    "    ]\n",
    "}"
   ]
  },
  {
   "cell_type": "code",
   "execution_count": 13,
   "id": "74d4ed7d",
   "metadata": {},
   "outputs": [],
   "source": [
    "task = client.tasks.create(\n",
    "    agent_id=agent.id,\n",
    "    **task_definition\n",
    ")"
   ]
  },
  {
   "cell_type": "code",
   "execution_count": 14,
   "id": "49470474",
   "metadata": {},
   "outputs": [],
   "source": [
    "execution = client.executions.create(\n",
    "    task_id=task.id,\n",
    "    input={\"cities\": [\"Paris\", \"Tokyo\", \"New York\"]}\n",
    ")"
   ]
  },
  {
   "cell_type": "code",
   "execution_count": 16,
   "id": "2d4288a8",
   "metadata": {},
   "outputs": [
    {
     "name": "stdout",
     "output_type": "stream",
     "text": [
      "Execution(id='0683feb2-3eaf-708a-8000-4edea35b1a0a', created_at=datetime.datetime(2025, 6, 4, 6, 43, 47, 920659, tzinfo=datetime.timezone.utc), input={'cities': ['Paris', 'Tokyo', 'New York']}, status='queued', task_id='0683feb1-9be6-78ac-8000-900b88f7c881', updated_at=datetime.datetime(2025, 6, 4, 6, 43, 47, 958490, tzinfo=datetime.timezone.utc), error=None, metadata={'jobs': ['0683feb2-4093-78af-8000-d0f1717fc70b']}, output=None, transition_count=None)\n"
     ]
    }
   ],
   "source": [
    "print(execution)"
   ]
  },
  {
   "cell_type": "code",
   "execution_count": 17,
   "id": "75d0e9c6",
   "metadata": {},
   "outputs": [],
   "source": [
    "while (result := client.executions.get(execution.id)).status not in ['succeeded', 'failed']:\n",
    "    print(result.status)\n",
    "    time.sleep(1)"
   ]
  },
  {
   "cell_type": "code",
   "execution_count": 18,
   "id": "c6d9a4ab",
   "metadata": {},
   "outputs": [
    {
     "name": "stdout",
     "output_type": "stream",
     "text": [
      "[{'result': 'In Paris, the current weather is as follows:\\nDetailed status: overcast clouds\\nWind speed: 4.12 m/s, direction: 200°\\nHumidity: 82%\\nTemperature: \\n  - Current: 14.32°C\\n  - High: 15.43°C\\n  - Low: 13.54°C\\n  - Feels like: 13.95°C\\nRain: {}\\nHeat index: None\\nCloud cover: 100%'}, {'result': 'In Tokyo, the current weather is as follows:\\nDetailed status: broken clouds\\nWind speed: 5.66 m/s, direction: 180°\\nHumidity: 61%\\nTemperature: \\n  - Current: 27.24°C\\n  - High: 28.13°C\\n  - Low: 25.75°C\\n  - Feels like: 28.47°C\\nRain: {}\\nHeat index: None\\nCloud cover: 75%'}, {'result': 'In New York, the current weather is as follows:\\nDetailed status: clear sky\\nWind speed: 2.06 m/s, direction: 270°\\nHumidity: 63%\\nTemperature: \\n  - Current: 17.34°C\\n  - High: 18.52°C\\n  - Low: 14.9°C\\n  - Feels like: 16.77°C\\nRain: {}\\nHeat index: None\\nCloud cover: 0%'}]\n"
     ]
    }
   ],
   "source": [
    "if result.status == \"succeeded\":\n",
    "    print(result.output)\n",
    "else:\n",
    "    print(f\"Error: {result.error}\")"
   ]
  },
  {
   "cell_type": "code",
   "execution_count": null,
   "id": "0b18d88d",
   "metadata": {},
   "outputs": [],
   "source": []
  }
 ],
 "metadata": {
  "kernelspec": {
   "display_name": "julep_venv",
   "language": "python",
   "name": "python3"
  },
  "language_info": {
   "codemirror_mode": {
    "name": "ipython",
    "version": 3
   },
   "file_extension": ".py",
   "mimetype": "text/x-python",
   "name": "python",
   "nbconvert_exporter": "python",
   "pygments_lexer": "ipython3",
   "version": "3.12.7"
  }
 },
 "nbformat": 4,
 "nbformat_minor": 5
}
